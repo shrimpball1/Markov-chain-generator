{
 "cells": [
  {
   "cell_type": "code",
   "execution_count": 1,
   "id": "eab7da1b",
   "metadata": {},
   "outputs": [],
   "source": [
    "import random"
   ]
  },
  {
   "cell_type": "code",
   "execution_count": 2,
   "id": "b9125939",
   "metadata": {},
   "outputs": [],
   "source": [
    "def generate_markov_chain(text, order=1):\n",
    "    words = text.split()\n",
    "    markov_chain = {}\n",
    "\n",
    "    for i in range(len(words) - order):\n",
    "        current_state = tuple(words[i:i+order])\n",
    "        next_state = words[i+order]\n",
    "\n",
    "        if current_state not in markov_chain:\n",
    "            markov_chain[current_state] = []\n",
    "\n",
    "        markov_chain[current_state].append(next_state)\n",
    "\n",
    "    return markov_chain\n",
    "\n",
    "def generate_text(markov_chain, length=50):\n",
    "    current_state = random.choice(list(markov_chain.keys()))\n",
    "    generated_text = list(current_state)\n",
    "\n",
    "    for _ in range(length - len(generated_text)):\n",
    "        if current_state in markov_chain:\n",
    "            next_word = random.choice(markov_chain[current_state])\n",
    "            generated_text.append(next_word)\n",
    "            current_state = tuple(generated_text[-len(current_state):])\n",
    "\n",
    "    return ' '.join(generated_text)"
   ]
  },
  {
   "cell_type": "code",
   "execution_count": 18,
   "id": "812c8ebc",
   "metadata": {},
   "outputs": [
    {
     "name": "stdout",
     "output_type": "stream",
     "text": [
      "people. That is why numerous people like me.\n"
     ]
    }
   ],
   "source": [
    "sample_text = \"This is a sample text for the Markov chain generator. It produces random text based on the input text.\"\n",
    "\n",
    "markov_chain = generate_markov_chain(sample_text, order=2)\n",
    "\n",
    "random_text = generate_text(markov_chain, length=20)\n",
    "print(random_text)"
   ]
  },
  {
   "cell_type": "code",
   "execution_count": null,
   "id": "26c3622a",
   "metadata": {},
   "outputs": [],
   "source": []
  },
  {
   "cell_type": "code",
   "execution_count": null,
   "id": "e59d3fc4",
   "metadata": {},
   "outputs": [],
   "source": []
  }
 ],
 "metadata": {
  "kernelspec": {
   "display_name": "Python 3 (ipykernel)",
   "language": "python",
   "name": "python3"
  },
  "language_info": {
   "codemirror_mode": {
    "name": "ipython",
    "version": 3
   },
   "file_extension": ".py",
   "mimetype": "text/x-python",
   "name": "python",
   "nbconvert_exporter": "python",
   "pygments_lexer": "ipython3",
   "version": "3.11.5"
  }
 },
 "nbformat": 4,
 "nbformat_minor": 5
}
